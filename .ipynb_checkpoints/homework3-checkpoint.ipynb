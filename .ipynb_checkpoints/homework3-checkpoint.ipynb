{
 "cells": [
  {
   "cell_type": "markdown",
   "id": "c9d5c5f7",
   "metadata": {},
   "source": [
    "### 1) Build a Shopping Cart <br>\n",
    "<p><b>You can use either lists or dictionaries. The program should have the following capabilities:</b><br><br>\n",
    "1) Takes in input <br>\n",
    "2) Stores user input into a dictionary or list <br>\n",
    "3) The User can add or delete items <br>\n",
    "4) The User can see current shopping list <br>\n",
    "5) The program Loops until user 'quits' <br>\n",
    "6) Upon quiting the program, print out all items in the user's list <br>\n",
    "</p>"
   ]
  },
  {
   "cell_type": "code",
   "execution_count": null,
   "id": "4b2191d8",
   "metadata": {},
   "outputs": [],
   "source": [
    "def shoppingmenu():\n",
    "    shop_cart={}\n",
    "    price=[]\n",
    "    while True:\n",
    "        print(\"\"\"\n",
    "        Choose this following selection option for your chart list \\n\n",
    "        1. add item to chart\n",
    "        2. show the list you have\n",
    "        3. remove item from chart\n",
    "        4. caculate the total cost\n",
    "        5. exit shopping\n",
    "        6. clear the list(start over)\n",
    "        \"\"\")\n",
    "\n",
    "        # asking user to select the option \n",
    "        items_selection = input(\"Please make your selection: \" )\n",
    "        # using if statement to decise which option user choose and run the code base on user selected\n",
    "        if items_selection == '1':\n",
    "            item=input(\"What item would you like to add? \")\n",
    "            qnty = int(input(\"How many item you like to buy? \"))\n",
    "            shop_cart[item]=qnty\n",
    "\n",
    "        \n",
    "        # show the list user have need selected \n",
    "        elif items_selection == \"2\":\n",
    "            for item in shop_cart:\n",
    "                print(item, ' : '  ,shop_cart[item] )\n",
    "\n",
    "        # remove any item user don't need from list \n",
    "        elif items_selection ==\"3\":\n",
    "            item = input(\"Enter Item to remove: \")\n",
    "            del(shop_cart[item])\n",
    "            print(item,\" have been remove\")\n",
    "        # calculate the price \n",
    "        elif items_selection ==\"4\":\n",
    "            # item =float(input(\"Enter the price to calculate the item cost: \")) # asking question here\n",
    "            shop_cart[item]=qnty\n",
    "            print(shop_cart[item],\"is your total\")\n",
    "        elif items_selection ==\"5\":\n",
    "            break\n",
    "        elif items_selection ==\"6\":\n",
    "            shop_cart.clear()\n",
    "        else:\n",
    "            print(\"You enter the wrong option\")\n",
    "print(shoppingmenu())"
   ]
  },
  {
   "cell_type": "markdown",
   "id": "29c6fb33",
   "metadata": {},
   "source": [
    "### 2) Create a Module in VS Code and Import It into jupyter notebook <br>\n",
    "<p><b>Module should have the following capabilities:</b><br><br>\n",
    "1) Has a function to calculate the square footage of a house <br>\n",
    "    <b>Reminder of Formula: Length X Width == Area<br>\n",
    "        <hr>\n",
    "2) Has a function to calculate the circumference of a circle <br><br>\n",
    "<b>Program in Jupyter Notebook should take in user input and use imported functions to calculate a circle's circumference or a houses square footage</b>\n",
    "</p>"
   ]
  },
  {
   "cell_type": "markdown",
   "id": "7c5a64a3",
   "metadata": {},
   "source": [
    "## from whole_area import house_area, circumference\n",
    "\n",
    "house_area()\n",
    "\n",
    "print(\"\\n\")\n",
    "\n",
    "circumference()\n",
    "\n"
   ]
  }
 ],
 "metadata": {
  "kernelspec": {
   "display_name": "Python 3 (ipykernel)",
   "language": "python",
   "name": "python3"
  },
  "language_info": {
   "codemirror_mode": {
    "name": "ipython",
    "version": 3
   },
   "file_extension": ".py",
   "mimetype": "text/x-python",
   "name": "python",
   "nbconvert_exporter": "python",
   "pygments_lexer": "ipython3",
   "version": "3.9.7"
  }
 },
 "nbformat": 4,
 "nbformat_minor": 5
}
